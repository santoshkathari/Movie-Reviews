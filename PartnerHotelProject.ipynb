{
 "cells": [
  {
   "cell_type": "code",
   "execution_count": 72,
   "id": "e544c66f",
   "metadata": {},
   "outputs": [
    {
     "name": "stdout",
     "output_type": "stream",
     "text": [
      "                                p1_key                      p1_hotel_name  \\\n",
      "0     4F315989358CC0F3F7869F569887743D           Quality Inn West Chester   \n",
      "1     A4EEBCBB9932DADE591248DFFFBDC068                MAP5 Village Resort   \n",
      "2     C517E32BB18C1E2ED859947B25629103                  Art Cottage Hotel   \n",
      "3     BA9A1BF15E402B506E34E2E72822B9AD                  Malmaison Reading   \n",
      "4     7C6A63421F465FF5F692CB2E81C84481            Matsumoto Tourist Hotel   \n",
      "...                                ...                                ...   \n",
      "5131  836365DF245836DC82A8A1258E62FC54                    La Maison Verte   \n",
      "5132  78A1A79025A5B472175CE8AFD34C7947    Americas Best Value Inn Visalia   \n",
      "5133  0999EC8114AC994FB94F3C8FD6C14CC3  Apartment Abbaye De Roseland Nice   \n",
      "5134  79CCFA8C608B34F05332B10E4D0B4CF3               Hotel Nalanda Ladakh   \n",
      "5135  529EC1F7EA830A51F00DAFB5B06CF091            Berjaya Langkawi Resort   \n",
      "\n",
      "           p1.city_name p1_country_code                p1.hotel_address  \\\n",
      "0     West Chester (OH)              US     8567 Cincinnati Dayton Road   \n",
      "1                   Goa              IN                 Vithaldas Wadoo   \n",
      "2                  Ipoh              MY   15 & 17,Jalan Medan Ipoh 1B/1   \n",
      "3               Reading              GB              18-20 Station Road   \n",
      "4                Nagano              JP                  2-4-24 Fukashi   \n",
      "...                 ...             ...                             ...   \n",
      "5131         Chiang Mai              TH      1/3 Ratchamanka Road Soi 3   \n",
      "5132       Visalia (CA)              US            623 West Main Street   \n",
      "5133               Nice              FR                               .   \n",
      "5134                Leh              IN            Upper Karzoo, Ladakh   \n",
      "5135           Langkawi              MY  Karung Berkunci 200, Burau Bay   \n",
      "\n",
      "      p1.star_rating p1.postal_code                            p2_key  \\\n",
      "0                3.0          45069  28E50B8F4185B367F6B31F9B2151D634   \n",
      "1                3.0         403512  1A83AC6BA04BA9A8A080888637331359   \n",
      "2                1.0          31400  3C80499A467E55B9412D5B063F0C3BC4   \n",
      "3                4.0        RG1 1JX  6BE596E994E1AB70DB267D13D96370C7   \n",
      "4                3.0       390-0815  FA144F20A427F4EB6C335D84835AA16A   \n",
      "...              ...            ...                               ...   \n",
      "5131             0.0          50200  C072BDA05572E4CD02B552C4EF28942F   \n",
      "5132             2.0          93291  5731AF7B756DDA20CA5C8E564B5AE761   \n",
      "5133             0.0           6200  C98352339EBDFE81B2EED38275410B62   \n",
      "5134             3.5         194101  F897DF6A91773A76E4B9FE518F93E464   \n",
      "5135             5.0            NaN  27AA7735F3E8F5FE0685973357C649D2   \n",
      "\n",
      "                          p2_hotel_name  p2.city_name p2_country_code  \\\n",
      "0              Quality Inn West Chester  West Chester              US   \n",
      "1                   MAP5 Village Resort        Morjim              IN   \n",
      "2                     Art Cottage Hotel          Ipoh              MY   \n",
      "3                     Malmaison Reading       Reading              GB   \n",
      "4               Matsumoto Tourist Hotel     Matsumoto              JP   \n",
      "...                                 ...           ...             ...   \n",
      "5131                    La Maison Verte    Chiang Mai              TH   \n",
      "5132    Americas Best Value Inn Visalia       Visalia              US   \n",
      "5133  Apartment Abbaye De Roseland Nice          Nice              FR   \n",
      "5134               Hotel Nalanda Ladakh           Leh              IN   \n",
      "5135            Berjaya Langkawi Resort    Pantai Kok              MY   \n",
      "\n",
      "                                       p2.hotel_address  p2.star_rating  \\\n",
      "0                           8567 Cincinnati Dayton Road             2.0   \n",
      "1              Vithaldas Wadoo Morjim Beach , North Goa             0.0   \n",
      "2     15 & 17, Jalan Medan Ipoh 1B/1, Medan Ipoh Bis...             0.0   \n",
      "3                                          Station Road             4.0   \n",
      "4                                       Fukashi 2-4-24              3.0   \n",
      "...                                                 ...             ...   \n",
      "5131                         1/3 Ratchamanka Road Soi 3             0.0   \n",
      "5132                               623 West Main Street             2.0   \n",
      "5133                                                                0.0   \n",
      "5134  Upper Karzoo, Near Deputy Commissioner Residen...             0.0   \n",
      "5135                     Karong Berkunci 200, Burau Bay             5.0   \n",
      "\n",
      "     p2.postal_code  \n",
      "0             45069  \n",
      "1            403512  \n",
      "2             31400  \n",
      "3           RG1 1JX  \n",
      "4          390-0815  \n",
      "...             ...  \n",
      "5131          50200  \n",
      "5132          93291  \n",
      "5133           6200  \n",
      "5134         194101  \n",
      "5135           7000  \n",
      "\n",
      "[5136 rows x 14 columns]\n",
      "0       4F315989358CC0F3F7869F569887743D 28E50B8F4185B...\n",
      "1       A4EEBCBB9932DADE591248DFFFBDC068 1A83AC6BA04BA...\n",
      "2       C517E32BB18C1E2ED859947B25629103 3C80499A467E5...\n",
      "3       BA9A1BF15E402B506E34E2E72822B9AD 6BE596E994E1A...\n",
      "4       7C6A63421F465FF5F692CB2E81C84481 FA144F20A427F...\n",
      "                              ...                        \n",
      "5131    836365DF245836DC82A8A1258E62FC54 C072BDA05572E...\n",
      "5132    78A1A79025A5B472175CE8AFD34C7947 5731AF7B756DD...\n",
      "5133    0999EC8114AC994FB94F3C8FD6C14CC3 C98352339EBDF...\n",
      "5134    79CCFA8C608B34F05332B10E4D0B4CF3 F897DF6A91773...\n",
      "5135    529EC1F7EA830A51F00DAFB5B06CF091 27AA7735F3E8F...\n",
      "Length: 5136, dtype: object\n"
     ]
    }
   ],
   "source": [
    "# Import pandas\n",
    "import pandas as pd\n",
    "import re\n",
    "\n",
    "# reading csv file\n",
    "df1=pd.read_csv(\"Partner1.csv\")\n",
    "df2=pd.read_csv(\"Partner2.csv\")\n",
    "df3=pd.read_csv(\"results.csv\")\n",
    "result = pd.merge(df1, df2, how='inner', left_on = 'p1_hotel_name', right_on = 'p2_hotel_name')\n",
    "print(result)\n",
    "result1.to_csv('mergedfileNew.csv', encoding='utf-8')\n",
    "df= result1['p1_key']+\" \"+result1['p2_key']\n",
    "print(df)\n",
    "df.to_csv('mergedfileNew1.csv', encoding='utf-8')\n",
    "df.to_csv(\"mergedfileNew1.csv.zip\",index=False, compression=\"zip\")"
   ]
  },
  {
   "cell_type": "code",
   "execution_count": null,
   "id": "d66fd7ff",
   "metadata": {},
   "outputs": [],
   "source": []
  },
  {
   "cell_type": "code",
   "execution_count": null,
   "id": "bea74ee6",
   "metadata": {},
   "outputs": [],
   "source": []
  },
  {
   "cell_type": "code",
   "execution_count": null,
   "id": "f136c141",
   "metadata": {},
   "outputs": [],
   "source": []
  },
  {
   "cell_type": "code",
   "execution_count": null,
   "id": "3745a87e",
   "metadata": {},
   "outputs": [],
   "source": [
    "\n"
   ]
  },
  {
   "cell_type": "code",
   "execution_count": null,
   "id": "450562c5",
   "metadata": {},
   "outputs": [],
   "source": [
    "\n"
   ]
  },
  {
   "cell_type": "code",
   "execution_count": null,
   "id": "ea41863c",
   "metadata": {},
   "outputs": [],
   "source": []
  },
  {
   "cell_type": "code",
   "execution_count": null,
   "id": "87596b5d",
   "metadata": {},
   "outputs": [],
   "source": []
  },
  {
   "cell_type": "code",
   "execution_count": null,
   "id": "09130252",
   "metadata": {},
   "outputs": [],
   "source": []
  }
 ],
 "metadata": {
  "kernelspec": {
   "display_name": "Python 3",
   "language": "python",
   "name": "python3"
  },
  "language_info": {
   "codemirror_mode": {
    "name": "ipython",
    "version": 3
   },
   "file_extension": ".py",
   "mimetype": "text/x-python",
   "name": "python",
   "nbconvert_exporter": "python",
   "pygments_lexer": "ipython3",
   "version": "3.8.8"
  }
 },
 "nbformat": 4,
 "nbformat_minor": 5
}
